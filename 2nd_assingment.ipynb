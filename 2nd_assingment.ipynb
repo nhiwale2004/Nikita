{
 "cells": [
  {
   "cell_type": "markdown",
   "id": "b7b5109d-2e9c-4dc7-8bed-7030e1a0d1c8",
   "metadata": {},
   "source": [
    "## Problem 1: Write a program that will give you in hand monthly salary after deduction on CTC - HRA(10%), DA(5%), PF(3%) and taxes deduction as below:\n",
    "Salary(Lakhs) : Tax(%)\n",
    "\n",
    "Below 5 : 0%  \n",
    "5-10 : 10%  \n",
    "10-20 : 20%   \n",
    "aboove 20 : 30%   \n"
   ]
  },
  {
   "cell_type": "code",
   "execution_count": 7,
   "id": "7f10a863-b547-4d33-9415-6f615e13a16c",
   "metadata": {},
   "outputs": [
    {
     "name": "stdin",
     "output_type": "stream",
     "text": [
      "Enter your CTC in lakhs:  15\n"
     ]
    },
    {
     "name": "stdout",
     "output_type": "stream",
     "text": [
      "In-hand monthly salary: ₹82000.00\n"
     ]
    }
   ],
   "source": [
    "def calculate_in_hand_salary(ctc_lakhs):\n",
    "    HRA_PERCENTAGE = 10\n",
    "    DA_PERCENTAGE = 5\n",
    "    PF_PERCENTAGE = 3\n",
    "\n",
    "    ctc = ctc_lakhs * 100000\n",
    "    hra = (HRA_PERCENTAGE / 100) * ctc\n",
    "    da = (DA_PERCENTAGE / 100) * ctc\n",
    "    pf = (PF_PERCENTAGE / 100) * ctc\n",
    "\n",
    "    taxable_income = ctc - hra - da - pf\n",
    "\n",
    "    if ctc_lakhs < 5:\n",
    "        tax_rate = 0\n",
    "    elif 5 <= ctc_lakhs < 10:\n",
    "        tax_rate = 10\n",
    "    elif 10 <= ctc_lakhs < 20:\n",
    "        tax_rate = 20\n",
    "    else:\n",
    "        tax_rate = 3\n",
    "    tax = (tax_rate / 100) * taxable_income\n",
    "\n",
    "\n",
    "    in_hand_salary_annual = taxable_income-tax\n",
    "    in_hand_salary_monthly = in_hand_salary_annual / 12\n",
    "\n",
    "    return in_hand_salary_monthly\n",
    "\n",
    "\n",
    "ctc_lakhs = float(input(\"Enter your CTC in lakhs: \"))\n",
    "in_hand_salary = calculate_in_hand_salary(ctc_lakhs)\n",
    "print(f\"In-hand monthly salary: ₹{in_hand_salary:.2f}\")"
   ]
  },
  {
   "cell_type": "markdown",
   "id": "0f553a9d-8546-4afe-8135-bbef5d500eb4",
   "metadata": {},
   "source": [
    "## problem 2: Write a program that take a user input of three angles and will find out whether it can from a triangle or not."
   ]
  },
  {
   "cell_type": "code",
   "execution_count": 2,
   "id": "a1e662dc-5067-4046-ad29-4043cbabbc39",
   "metadata": {},
   "outputs": [
    {
     "name": "stdin",
     "output_type": "stream",
     "text": [
      "Enter the first angle: 40\n",
      "Enter the second angle: 040\n",
      "Enter the third angle: 100\n"
     ]
    },
    {
     "name": "stdout",
     "output_type": "stream",
     "text": [
      "The angle can from a triangle:\n"
     ]
    }
   ],
   "source": [
    "angle1 = int(input(\"Enter the first angle:\"))\n",
    "angle2 = int(input(\"Enter the second angle:\"))\n",
    "angle3 = int(input(\"Enter the third angle:\"))\n",
    "if (angle1+angle2+angle3==180):\n",
    "    print(\"The angle can from a triangle:\")\n",
    "else:\n",
    "    print(\"The angle cannot from a triangle:\")\n"
   ]
  },
  {
   "cell_type": "markdown",
   "id": "b87fd091-04c8-4bfc-bbf0-294116db38be",
   "metadata": {},
   "source": [
    "## problem 3: write a program that will take user input of cost price and selling price and determine whether its a loss or a profit."
   ]
  },
  {
   "cell_type": "code",
   "execution_count": 2,
   "id": "f0afa0a6-0caf-41b9-9a5d-5668fe6bf2d1",
   "metadata": {},
   "outputs": [
    {
     "name": "stdin",
     "output_type": "stream",
     "text": [
      "Enter the cost Price of an Item : 40\n",
      "Enter the Selling Price of an Item : 50\n"
     ]
    },
    {
     "name": "stdout",
     "output_type": "stream",
     "text": [
      "Profit : 10.0\n"
     ]
    }
   ],
   "source": [
    "cost_price=float(input(\"Enter the cost Price of an Item :\"))\n",
    "selling_price=float(input(\"Enter the Selling Price of an Item :\"))\n",
    "if (selling_price > cost_price):\n",
    "\tprofit = selling_price - cost_price\n",
    "\tprint(\"Profit :\",profit)\n",
    "elif( cost_price > selling_price):\n",
    "\tloss = cost_price - selling_price\n",
    "\tprint(\"Loss :\",loss)\n",
    "else:\n",
    "\tprint(\"No Profit No Loss\")\n"
   ]
  },
  {
   "cell_type": "markdown",
   "id": "23c85f63-fdb0-4ce9-8490-c74fe6917b4b",
   "metadata": {},
   "source": [
    "## problem 4: Write a menu-driven program\n",
    "1. cm to ft\n",
    "2. km to miles\n",
    "3. USD to INR\n",
    "4. Exit"
   ]
  },
  {
   "cell_type": "code",
   "execution_count": 4,
   "id": "c5fe45dc-ab72-4a74-a097-5ae19f8affe1",
   "metadata": {},
   "outputs": [
    {
     "name": "stdin",
     "output_type": "stream",
     "text": [
      "\n",
      "Hiii select one option\n",
      "\n",
      "1. cms to ft\n",
      "2. km to miles\n",
      "3. USD to INR\n",
      "4. Exit\n",
      " 3\n",
      "enter your USD value 4\n"
     ]
    },
    {
     "name": "stdout",
     "output_type": "stream",
     "text": [
      "INR value is  333.4\n"
     ]
    }
   ],
   "source": [
    " menu = input(\"\"\"\n",
    "Hiii select one option\n",
    "\n",
    "1. cms to ft\n",
    "2. km to miles\n",
    "3. USD to INR\n",
    "4. Exit\n",
    "\"\"\")\n",
    "if menu ==\"1\":\n",
    "    cm = float(input(\"enter your cm value\"))\n",
    "    print(\"ft value is \",0.03280*cm)\n",
    "elif menu == \"2\":\n",
    "    km = eval(input(\"enter your km value\"))\n",
    "    print(\"miles value is \",0.62*km)\n",
    "elif menu == \"3\":\n",
    "    USD = eval(input(\"enter your USD value\"))\n",
    "    print(\"INR value is \",83.35*USD)  \n",
    "else:\n",
    "   print(\"Exit\")\n",
    "\n"
   ]
  },
  {
   "cell_type": "markdown",
   "id": "32cbc5ed-c177-4b61-931f-25df27fa0724",
   "metadata": {},
   "source": [
    "## problem: 5 Exercise 12:Display Fibonacci series up to 10 terms."
   ]
  },
  {
   "cell_type": "code",
   "execution_count": 14,
   "id": "68fdf24a-5eb8-4642-8925-77f64fb19c11",
   "metadata": {},
   "outputs": [
    {
     "name": "stdout",
     "output_type": "stream",
     "text": [
      "Fibonacci sequence:\n",
      "0 0 0 0 0 0 0 0 0 0 "
     ]
    }
   ],
   "source": [
    "num1, num2 = 0, 1\n",
    "print(\"Fibonacci sequence:\")\n",
    "for i in range(10):\n",
    "  print(num1, end=\" \")\n",
    "res = num1 + num2\n",
    "num1 = num2\n",
    "num2 = res"
   ]
  },
  {
   "cell_type": "markdown",
   "id": "f36c88be-923a-4611-aa35-dc3958ed5bbc",
   "metadata": {},
   "source": [
    "## problem:6 Find the factorial of a given number.\n",
    "Write a program to use the loop to find the factorial of a given number.\n",
    "\n",
    "The factorial (symbol: !) means to multiply all whole numbers from the chosen number down to 1.\n",
    "\n",
    "For example: calculate the factorial of 5\n",
    "\n",
    "5! = 5 × 4 × 3 × 2 × 1 = 120"
   ]
  },
  {
   "cell_type": "code",
   "execution_count": 15,
   "id": "86e84cb7-af63-4f30-a772-15cad62cdbbb",
   "metadata": {},
   "outputs": [
    {
     "name": "stdin",
     "output_type": "stream",
     "text": [
      "enter the number 5\n"
     ]
    },
    {
     "name": "stdout",
     "output_type": "stream",
     "text": [
      "120\n"
     ]
    }
   ],
   "source": [
    " num=int(input(\"enter the number\"))\n",
    " fact = 1 \n",
    "for i in range(1,num+1):\n",
    "    fact=fact*i \n",
    "print(fact)\n"
   ]
  },
  {
   "cell_type": "markdown",
   "id": "0a67116f-e132-4606-a3ab-bf80caa62b5e",
   "metadata": {},
   "source": [
    "## problem:7 Reverse a given integer number.\n",
    "Example:\n",
    "input:76542"
   ]
  },
  {
   "cell_type": "code",
   "execution_count": 2,
   "id": "16836131-6727-42a6-aece-2360c629c967",
   "metadata": {},
   "outputs": [
    {
     "name": "stdout",
     "output_type": "stream",
     "text": [
      "Reversed Number: 24567\n"
     ]
    }
   ],
   "source": [
    "num = 76542\n",
    "reversed_num = 0\n",
    "\n",
    "while num != 0:\n",
    "    digit = num % 10\n",
    "    reversed_num = reversed_num * 10 + digit\n",
    "    num //= 10\n",
    "\n",
    "print(\"Reversed Number: \" + str(reversed_num))"
   ]
  },
  {
   "cell_type": "markdown",
   "id": "21ef91a9-ec01-4db6-95a1-e6080719c211",
   "metadata": {},
   "source": [
    "## Problem 8: Take a user input as integer N. Find out the sum from 1 to N. If any number if divisible by 5, then skip that number. And if the sum is greater than 300, don't need to calculate the sum further more. Print the final result. And don't use for loop to solve this problem.\n",
    "Example 1:\n",
    "Input:\n",
    "30"
   ]
  },
  {
   "cell_type": "code",
   "execution_count": 4,
   "id": "2eebe992-a42a-4779-95db-e56d30fc936d",
   "metadata": {},
   "outputs": [
    {
     "name": "stdin",
     "output_type": "stream",
     "text": [
      "enter an integer num:  30\n"
     ]
    },
    {
     "name": "stdout",
     "output_type": "stream",
     "text": [
      "final result: 276\n"
     ]
    }
   ],
   "source": [
    "N= int(input(\"enter an integer num: \"))\n",
    "sum=0\n",
    "i=1\n",
    "while i < N:\n",
    "    if i % 5 == 0:\n",
    "        i += 1\n",
    "        continue\n",
    "\n",
    "    if sum+i > 300:\n",
    "        break\n",
    "    sum += i\n",
    "    i += 1\n",
    "print(\"final result:\",sum)"
   ]
  },
  {
   "cell_type": "markdown",
   "id": "a47c61c2-3260-40d2-a411-9b2ef197518a",
   "metadata": {},
   "source": [
    "## problem 9:Write a program that keeps on accepting a number from the user until the user enters Zero. Display the sum and average of all the numbers."
   ]
  },
  {
   "cell_type": "code",
   "execution_count": 2,
   "id": "60c5ff42-c7c2-4d20-b90e-95efe7279352",
   "metadata": {},
   "outputs": [
    {
     "name": "stdin",
     "output_type": "stream",
     "text": [
      "enter your number  0\n"
     ]
    }
   ],
   "source": [
    "sum=0\n",
    "count=0\n",
    "while True :\n",
    "     num = int(input(\"enter your number \"))\n",
    "     if num == 0:\n",
    "        break\n",
    "     sum = sum+num\n",
    "     count=count + 1\n",
    "     print(\"addition\",sum)\n",
    "     print(\"avg\",sum/count)"
   ]
  },
  {
   "cell_type": "markdown",
   "id": "df496c36-a0df-4e48-bc23-d22f3ab758ef",
   "metadata": {},
   "source": [
    "## Problem 10: Write a program which will find all such numbers which are divisible by 7 but are not a multiple of 5, between 2000 and 3200 (both included). The numbers obtained should be printed in a comma-separated sequence on a single line."
   ]
  },
  {
   "cell_type": "code",
   "execution_count": 16,
   "id": "293eb938-b55f-42c2-b064-dd59e5d60c03",
   "metadata": {},
   "outputs": [
    {
     "name": "stdout",
     "output_type": "stream",
     "text": [
      "2002,2009,2016,2023,2037,2044,2051,2058,2072,2079,2086,2093,2107,2114,2121,2128,2142,2149,2156,2163,2177,2184,2191,2198,2212,2219,2226,2233,2247,2254,2261,2268,2282,2289,2296,2303,2317,2324,2331,2338,2352,2359,2366,2373,2387,2394,2401,2408,2422,2429,2436,2443,2457,2464,2471,2478,2492,2499,2506,2513,2527,2534,2541,2548,2562,2569,2576,2583,2597,2604,2611,2618,2632,2639,2646,2653,2667,2674,2681,2688,2702,2709,2716,2723,2737,2744,2751,2758,2772,2779,2786,2793,2807,2814,2821,2828,2842,2849,2856,2863,2877,2884,2891,2898,2912,2919,2926,2933,2947,2954,2961,2968,2982,2989,2996,3003,3017,3024,3031,3038,3052,3059,3066,3073,3087,3094,3101,3108,3122,3129,3136,3143,3157,3164,3171,3178,3192,3199\n"
     ]
    }
   ],
   "source": [
    "L = []\n",
    "for num in range(2000,3200):\n",
    "  if num % 7 == 0 and num % 5 != 0:\n",
    "     L.append(str(num))\n",
    "print(\",\".join(number))"
   ]
  },
  {
   "cell_type": "markdown",
   "id": "0218c815-355c-4374-931f-aac3abfa5a71",
   "metadata": {},
   "source": [
    "## problem 11: Write a program, which will find all such numbers between 1000 and 3000 (both included)such that each digit of the number is an even number. The numbers obtained should be printed in a space-separted squence on a single line."
   ]
  },
  {
   "cell_type": "code",
   "execution_count": 8,
   "id": "547350ad-eabd-4859-81bb-5470caf87c9a",
   "metadata": {},
   "outputs": [
    {
     "name": "stdout",
     "output_type": "stream",
     "text": [
      "2000,2001,2002,2003,2004,2005,2006,2007,2008,2009,2020,2021,2022,2023,2024,2025,2026,2027,2028,2029,2040,2041,2042,2043,2044,2045,2046,2047,2048,2049,2060,2061,2062,2063,2064,2065,2066,2067,2068,2069,2080,2081,2082,2083,2084,2085,2086,2087,2088,2089,2200,2201,2202,2203,2204,2205,2206,2207,2208,2209,2220,2221,2222,2223,2224,2225,2226,2227,2228,2229,2240,2241,2242,2243,2244,2245,2246,2247,2248,2249,2260,2261,2262,2263,2264,2265,2266,2267,2268,2269,2280,2281,2282,2283,2284,2285,2286,2287,2288,2289,2400,2401,2402,2403,2404,2405,2406,2407,2408,2409,2420,2421,2422,2423,2424,2425,2426,2427,2428,2429,2440,2441,2442,2443,2444,2445,2446,2447,2448,2449,2460,2461,2462,2463,2464,2465,2466,2467,2468,2469,2480,2481,2482,2483,2484,2485,2486,2487,2488,2489,2600,2601,2602,2603,2604,2605,2606,2607,2608,2609,2620,2621,2622,2623,2624,2625,2626,2627,2628,2629,2640,2641,2642,2643,2644,2645,2646,2647,2648,2649,2660,2661,2662,2663,2664,2665,2666,2667,2668,2669,2680,2681,2682,2683,2684,2685,2686,2687,2688,2689,2800,2801,2802,2803,2804,2805,2806,2807,2808,2809,2820,2821,2822,2823,2824,2825,2826,2827,2828,2829,2840,2841,2842,2843,2844,2845,2846,2847,2848,2849,2860,2861,2862,2863,2864,2865,2866,2867,2868,2869,2880,2881,2882,2883,2884,2885,2886,2887,2888,2889\n"
     ]
    }
   ],
   "source": [
    "result = []\n",
    "for i in range(1000,3000):\n",
    "    s = str(i)\n",
    "    if (int(s[0]) % 2 == 0) and (int(s[1]) % 2 == 0) and (int(s[2]) % 2 == 0):\n",
    "                                                        result.append(s)\n",
    "print(\",\".join(result))"
   ]
  },
  {
   "cell_type": "markdown",
   "id": "bf036e01-0667-4d5a-a62f-ea86ff8882c5",
   "metadata": {},
   "source": [
    "## Problem 12: A robot moves in a plane starting from the original point (0,0). The robot can move toward UP, DOWN, LEFT and RIGHT with a given steps.The trace of robot movement is shown as the following:\n",
    "\n",
    "UP 5\n",
    "DOWN 3\n",
    "LEFT 3\n",
    "RIGHT 2\n",
    "!\n",
    "The numbers after the direction are steps.\n",
    "\n",
    "! means robot stop there.\n",
    "\n",
    "Please write a program to compute the distance from current position after a sequence of movement and original point.\n",
    "\n",
    "If the distance is a float, then just print the nearest integer.\n",
    "\n",
    "Example:\n",
    "\n",
    "Input:\n",
    "\n",
    "UP 5\n",
    "DOWN 3\n",
    "LEFT 3\n",
    "RIGHT 2\n",
    "!"
   ]
  },
  {
   "cell_type": "code",
   "execution_count": null,
   "id": "1759ba9a-4937-4d7e-979d-49c3fad422f2",
   "metadata": {},
   "outputs": [
    {
     "name": "stdin",
     "output_type": "stream",
     "text": [
      "Type in UP/DOWN/LEFT/RIGHT #step number:  5\n",
      "Type in UP/DOWN/LEFT/RIGHT #step number:  3\n",
      "Type in UP/DOWN/LEFT/RIGHT #step number:  3\n",
      "Type in UP/DOWN/LEFT/RIGHT #step number:  2\n"
     ]
    }
   ],
   "source": [
    "import math\n",
    "\n",
    "x, y = 0, 0\n",
    "\n",
    "while True:\n",
    "    step = input(\"Type in UP/DOWN/LEFT/RIGHT #step number: \")\n",
    "\n",
    "    if step == \" \":\n",
    "        break\n",
    "    else:\n",
    "        step = step.split(\" \")\n",
    "\n",
    "        if step[0] == \"UP\":\n",
    "            y = y + int(step[1])\n",
    "        elif step[0] == \"DOWN\":\n",
    "            y = y - int(step[1])\n",
    "        elif step[0] == \"LEFT\":\n",
    "            x = x - int(step[1])\n",
    "        elif step[0] == \"RIGHT\":\n",
    "            x = x + int(step[1])\n",
    "\n",
    "c = math.sqrt(x*2 + y*2)\n",
    "\n",
    "print(\"Distance:\", c)"
   ]
  },
  {
   "cell_type": "markdown",
   "id": "47320760-cff5-4b82-802b-f5cc9f3ead35",
   "metadata": {},
   "source": [
    "## problem 13: Write a program to print whether a given number is a prime number or not"
   ]
  },
  {
   "cell_type": "code",
   "execution_count": 53,
   "id": "802a5d58-5822-4424-b335-4aaba12e2e77",
   "metadata": {},
   "outputs": [
    {
     "name": "stdin",
     "output_type": "stream",
     "text": [
      "enter an integer num:  7\n"
     ]
    },
    {
     "name": "stdout",
     "output_type": "stream",
     "text": [
      "7 is a prime number\n"
     ]
    }
   ],
   "source": [
    "num = int(input(\"enter an integer num: \")) \n",
    "if num > 1:\n",
    "\n",
    "   for i in range(2, (num//2)+1):\n",
    "\n",
    "       if (num%i) == 0: \n",
    "           print(num, \"is not a prime number\")\n",
    "           break\n",
    "\n",
    "   else:\n",
    "      print(num, \"is a prime number\")\n",
    "else:\n",
    "      print(num, \"is not a prime number\")"
   ]
  },
  {
   "cell_type": "markdown",
   "id": "a9d440be-abb4-433d-96b5-8296321e0808",
   "metadata": {},
   "source": [
    "## problem 14:Print all the Armstrong numbers in a given range.\n",
    "Range will be provided by the user\n",
    "Armstrong number is a number that is equal to the sum of cubes of its digits. For example 0, 1, 153, 370, 371 and 407 are the Armstrong numbers"
   ]
  },
  {
   "cell_type": "code",
   "execution_count": 1,
   "id": "44ddbd25-8868-4db6-8496-060ac6c9e498",
   "metadata": {},
   "outputs": [
    {
     "name": "stdin",
     "output_type": "stream",
     "text": [
      "Enter a number:  150\n"
     ]
    },
    {
     "name": "stdout",
     "output_type": "stream",
     "text": [
      "150 is not an Armstrong number\n"
     ]
    }
   ],
   "source": [
    "num = int(input(\"Enter a number: \"))\n",
    "sum = 0 \n",
    "temp = num \n",
    "while temp > 0: \n",
    "   digit =  temp % 10\n",
    "   sum += digit ** 3\n",
    "   temp //= 10 \n",
    "if num == sum: \n",
    "   print(num, \"is an Armstrong number\")\n",
    "\n",
    "else:\n",
    "   print(num, \"is not an Armstrong number\")"
   ]
  },
  {
   "cell_type": "markdown",
   "id": "6af11722-521e-4db5-afa5-d2cf2c3478eb",
   "metadata": {},
   "source": [
    "## Problem 15:Calculate the angle between the hour hand and minute hand.\n",
    "Note: There can be two angles between hands; we need to print a minimum of two. Also, we need to print the floor of the final result angle. For example, if the final angle is 10.61, we need to print 10.\n",
    "\n",
    "Input:\n",
    "H = 9 , M = 0\n",
    "\n",
    "Output:\n",
    "90\n",
    "\n",
    "Explanation:\n",
    "The minimum angle between hour and minute hand when the time is 9 is 90 degress."
   ]
  },
  {
   "cell_type": "code",
   "execution_count": 3,
   "id": "10770cf8-5f63-4250-b9f5-509582c74d4d",
   "metadata": {},
   "outputs": [
    {
     "name": "stdout",
     "output_type": "stream",
     "text": [
      "90\n"
     ]
    }
   ],
   "source": [
    "H = 9\n",
    "M = 0\n",
    "hour_angle =(H %12) * 30 + (M * 0.5)\n",
    "minute_angle = M * 6\n",
    "angle_difference = abs(hour_angle - minute_angle)\n",
    "smaller_angle = min(angle_difference, 360-angle_difference)\n",
    "result = int(smaller_angle)\n",
    "print(result)"
   ]
  },
  {
   "cell_type": "markdown",
   "id": "f5efa227-3889-44ac-9534-cb376d537f4c",
   "metadata": {},
   "source": [
    "## Problem 16:Given two rectangles, find if the given two rectangles overlap or not. A rectangle is denoted by providing the x and y coordinates of two points: the left top corner and the right bottom corner of the rectangle. Two rectangles sharing a side are considered overlapping. (L1 and R1 are the extreme points of the first rectangle and L2 and R2 are the extreme points of the second rectangle).\n",
    "\n",
    "Note: It may be assumed that the rectangles are parallel to the coordinate axis."
   ]
  },
  {
   "cell_type": "code",
   "execution_count": 81,
   "id": "0a27fcf4-a39d-42c5-aa0e-1a92d6095c7e",
   "metadata": {},
   "outputs": [
    {
     "name": "stdout",
     "output_type": "stream",
     "text": [
      "True\n"
     ]
    }
   ],
   "source": [
    "x1, y1 = 0, 10\n",
    "x2, y2 = 10, 0\n",
    "\n",
    "x3, y3 = 5, 5\n",
    "x4, y4 = 15 ,-5\n",
    "\n",
    "if (x2 < x3 or x4 < x1 or y2 > y3 or y4 > y1):\n",
    "    overlap = False\n",
    "else:\n",
    "    overlap = True\n",
    "print(overlap)"
   ]
  },
  {
   "cell_type": "code",
   "execution_count": null,
   "id": "757c3c4d-829f-46a7-a934-18c4b0ad8c01",
   "metadata": {},
   "outputs": [],
   "source": []
  }
 ],
 "metadata": {
  "kernelspec": {
   "display_name": "Python 3 (ipykernel)",
   "language": "python",
   "name": "python3"
  },
  "language_info": {
   "codemirror_mode": {
    "name": "ipython",
    "version": 3
   },
   "file_extension": ".py",
   "mimetype": "text/x-python",
   "name": "python",
   "nbconvert_exporter": "python",
   "pygments_lexer": "ipython3",
   "version": "3.11.7"
  }
 },
 "nbformat": 4,
 "nbformat_minor": 5
}
