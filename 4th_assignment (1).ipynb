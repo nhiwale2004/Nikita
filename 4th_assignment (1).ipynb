{
 "cells": [
  {
   "cell_type": "markdown",
   "id": "1c353bdb-1315-4276-a00c-314d3e369887",
   "metadata": {},
   "source": [
    "## Q 1 . Create 2 lists from a given list where \n",
    "# 1st list will contain all the odd numbers from the original list and\n",
    "# the 2nd one will contain all the even numbers\n",
    "L = [1,2,3,4,5,6]"
   ]
  },
  {
   "cell_type": "code",
   "execution_count": 2,
   "id": "df8e6d6d-9106-41ef-bb67-0be69d265044",
   "metadata": {},
   "outputs": [
    {
     "name": "stdout",
     "output_type": "stream",
     "text": [
      "odd number: [1, 3, 5]\n",
      "even number: [2, 4, 6]\n"
     ]
    }
   ],
   "source": [
    "L = [1,2,3,4,5,6]\n",
    "odd_number = [x for x in L if x % 2 !=0]\n",
    "\n",
    "even_number = [x for x in L if x % 2 == 0]\n",
    "\n",
    "print(\"odd number:\",odd_number)\n",
    "print(\"even number:\",even_number)"
   ]
  },
  {
   "cell_type": "markdown",
   "id": "1c2ce856-381f-4b6b-bb69-7ac87025dd90",
   "metadata": {},
   "source": [
    "## Q 2.  How to take list as input from user"
   ]
  },
  {
   "cell_type": "code",
   "execution_count": null,
   "id": "a327a669-26e9-42e5-9134-8089200dea51",
   "metadata": {},
   "outputs": [
    {
     "name": "stdin",
     "output_type": "stream",
     "text": [
      "enter number of element: 4\n",
      " 23\n"
     ]
    },
    {
     "name": "stdout",
     "output_type": "stream",
     "text": [
      "[23]\n"
     ]
    },
    {
     "name": "stdin",
     "output_type": "stream",
     "text": [
      " 43\n"
     ]
    },
    {
     "name": "stdout",
     "output_type": "stream",
     "text": [
      "[23, 43]\n"
     ]
    },
    {
     "name": "stdin",
     "output_type": "stream",
     "text": [
      " 95\n"
     ]
    },
    {
     "name": "stdout",
     "output_type": "stream",
     "text": [
      "[23, 43, 95]\n"
     ]
    }
   ],
   "source": [
    "list = []\n",
    "n = int(input(\"enter number of element:\"))\n",
    "for i in range(0,n):\n",
    "    ele = int(input())\n",
    "    list.append(ele)\n",
    "    print(list)"
   ]
  },
  {
   "cell_type": "markdown",
   "id": "5dbd39d4-521c-4115-8d31-a660b12d6bf0",
   "metadata": {},
   "source": [
    "## Q 3.  Write a program to merge 2 list without using the + operator\n",
    "L1 = [1,2,3,4]\n",
    "\n",
    "L2 = [5,6,7,8]"
   ]
  },
  {
   "cell_type": "code",
   "execution_count": 1,
   "id": "852c118e-897b-49f9-8275-ce3e742545ee",
   "metadata": {},
   "outputs": [
    {
     "name": "stdout",
     "output_type": "stream",
     "text": [
      "concatenated list using list comprehension:[1, 2, 3, 4, 5, 6, 7, 8]\n"
     ]
    }
   ],
   "source": [
    "L1 = [1,2,3,4]\n",
    "L2 = [5,6,7,8]\n",
    "res_list = [y for x in [L1,L2] for y in x]\n",
    "print(\"concatenated list using list comprehension:\" + str(res_list))"
   ]
  },
  {
   "cell_type": "markdown",
   "id": "e3a56c3b-0010-471d-bf94-0bfdd9ef7e29",
   "metadata": {},
   "source": [
    "## Q 4. Write a program to replace an item with a different item if found in the list \n",
    "L = [1,2,3,4,5,3]\n",
    "# replace 3 with 300"
   ]
  },
  {
   "cell_type": "code",
   "execution_count": 8,
   "id": "1578cb8d-e471-4c91-92fb-320885e36606",
   "metadata": {},
   "outputs": [
    {
     "name": "stdout",
     "output_type": "stream",
     "text": [
      "Updated list: [1, 2, 3, 4, 5, 3]\n"
     ]
    }
   ],
   "source": [
    "L= [1, 2, 3, 4, 5, 3]\n",
    "\n",
    "item_to_replace = 3\n",
    "new_item = 300\n",
    "\n",
    "for i in range(len(L)):\n",
    "    if L[i]== item_to_replace:\n",
    "        L[i] == new_item\n",
    "\n",
    "print(\"Updated list:\", L)\n",
    "\n"
   ]
  },
  {
   "cell_type": "markdown",
   "id": "7eb01b97-e776-437f-894e-3e770384f722",
   "metadata": {},
   "source": [
    "## Q 5 . Write a program that can convert a 2D list to 1D list"
   ]
  },
  {
   "cell_type": "code",
   "execution_count": 10,
   "id": "ceae6e77-5425-4a86-b321-c70664442fee",
   "metadata": {},
   "outputs": [
    {
     "name": "stdout",
     "output_type": "stream",
     "text": [
      "1D list: [1, 2, 3, 4, 5, 6, 7, 8, 9]\n"
     ]
    }
   ],
   "source": [
    "L_2D = [\n",
    "    [1,2,3],\n",
    "    [4,5,6],\n",
    "    [7,8,9]\n",
    "]\n",
    "L_1D = [item for sublist in L_2D for item in sublist]\n",
    "print(\"1D list:\",L_1D)"
   ]
  },
  {
   "cell_type": "markdown",
   "id": "e5322782-76e7-41dc-bf77-0d9af7fa2b04",
   "metadata": {},
   "source": [
    "## Q 6. Write a program to remove duplicate items from a list\n",
    "\n",
    "L = [1,2,1,2,3,4,5,3,4]"
   ]
  },
  {
   "cell_type": "code",
   "execution_count": 12,
   "id": "0a5533f0-af59-45ae-8e26-be7fc60d9fcd",
   "metadata": {},
   "outputs": [
    {
     "name": "stdout",
     "output_type": "stream",
     "text": [
      "List with duplicates removed: [1, 2, 3, 4, 5]\n"
     ]
    }
   ],
   "source": [
    "L = [1, 2, 1, 2, 3, 4, 5, 3, 4]\n",
    "\n",
    "L_unique = []\n",
    "for item in L:\n",
    "    if item not in L_unique:\n",
    "       L_unique.append(item)\n",
    "\n",
    "print(\"List with duplicates removed:\", L_unique)"
   ]
  },
  {
   "cell_type": "markdown",
   "id": "5fcad0ac-7cd6-4253-8cf3-b84a49a9cc8d",
   "metadata": {},
   "source": [
    "## Q 7. Write a program to check if a list is in ascending order or not"
   ]
  },
  {
   "cell_type": "code",
   "execution_count": 14,
   "id": "070d9537-3262-4957-8b7a-ac4df8cf7ec5",
   "metadata": {},
   "outputs": [
    {
     "name": "stdout",
     "output_type": "stream",
     "text": [
      "The list is in ascending order.\n"
     ]
    }
   ],
   "source": [
    "L = [1,2,3,4,5,6]\n",
    "is_ascending = all(L[i] <= L[i +1] for i in range(len(L) - 1))\n",
    "if is_ascending:\n",
    "    print(\"The list is in ascending order.\")\n",
    "else:\n",
    "    print(\"The list is not in asecending order.\")"
   ]
  },
  {
   "cell_type": "code",
   "execution_count": null,
   "id": "5540c64a-0a2c-4f1b-bab0-4cb8e9a0de20",
   "metadata": {},
   "outputs": [],
   "source": []
  }
 ],
 "metadata": {
  "kernelspec": {
   "display_name": "Python 3 (ipykernel)",
   "language": "python",
   "name": "python3"
  },
  "language_info": {
   "codemirror_mode": {
    "name": "ipython",
    "version": 3
   },
   "file_extension": ".py",
   "mimetype": "text/x-python",
   "name": "python",
   "nbconvert_exporter": "python",
   "pygments_lexer": "ipython3",
   "version": "3.11.7"
  }
 },
 "nbformat": 4,
 "nbformat_minor": 5
}
