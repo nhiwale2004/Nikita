{
 "cells": [
  {
   "cell_type": "markdown",
   "id": "411ea5f1-30e9-4555-a65c-e9d14a49f65a",
   "metadata": {},
   "source": [
    "## Q.1 find the length of given string (given by user) without using len() function"
   ]
  },
  {
   "cell_type": "code",
   "execution_count": 1,
   "id": "42504371-c31c-478d-972d-838df6f27f4c",
   "metadata": {},
   "outputs": [
    {
     "name": "stdin",
     "output_type": "stream",
     "text": [
      "enter your string: Nikita\n"
     ]
    },
    {
     "name": "stdout",
     "output_type": "stream",
     "text": [
      "length of string is 6\n"
     ]
    }
   ],
   "source": [
    "input=input(\"enter your string:\")\n",
    "count=0\n",
    "for i in input:\n",
    "    count+=1\n",
    "print(\"length of string is\",count)"
   ]
  },
  {
   "cell_type": "markdown",
   "id": "d4a5af49-6df5-4980-a287-b47aa0379462",
   "metadata": {},
   "source": [
    "## Q.2 extract userid from given mail i'd # Eg if then mail is nikku24hiwale@gmail.com them user name should be \"nikku24hiwale\"\n"
   ]
  },
  {
   "cell_type": "code",
   "execution_count": 2,
   "id": "c4471bd9-d463-468a-9167-edd31ec0dd18",
   "metadata": {},
   "outputs": [
    {
     "name": "stdin",
     "output_type": "stream",
     "text": [
      "enter your mail_id nikku24hiwale@gmail.com\n"
     ]
    },
    {
     "name": "stdout",
     "output_type": "stream",
     "text": [
      "nikku24hiwale\n"
     ]
    }
   ],
   "source": [
    "mail_id = input(\"enter your mail_id\")\n",
    "poss = mail_id.index(\"@\")\n",
    "print(mail_id[0:poss])"
   ]
  },
  {
   "cell_type": "markdown",
   "id": "2ed3fd29-169e-4b07-affd-5b71507afe4d",
   "metadata": {},
   "source": [
    "## Q.3 Count the frequency of perticular character in provided string Eg \"hello how are the you\"is the string The frequency of \"h\" in the string is 2 \n",
    "Without using count function\n"
   ]
  },
  {
   "cell_type": "code",
   "execution_count": 21,
   "id": "9afc336e-f476-432c-a537-0caa720361d5",
   "metadata": {},
   "outputs": [
    {
     "name": "stdin",
     "output_type": "stream",
     "text": [
      "enter your string hello how are the you\n",
      "what would  you like to search h\n"
     ]
    },
    {
     "name": "stdout",
     "output_type": "stream",
     "text": [
      "frequency of your char is 1\n",
      "frequency of your char is 2\n",
      "frequency of your char is 3\n"
     ]
    }
   ],
   "source": [
    "s=input(\"enter your string\")\n",
    "term = input(\"what would  you like to search\")\n",
    "counter = 0\n",
    "for i in s:\n",
    "    if i == term:\n",
    "        counter +=1\n",
    "        print(\"frequency of your char is\",counter)"
   ]
  },
  {
   "cell_type": "markdown",
   "id": "8d55b8ee-1f88-4c78-958d-364990be4cd9",
   "metadata": {},
   "source": [
    "## Q.4  write a program which can remove  a perticular character from string \n"
   ]
  },
  {
   "cell_type": "code",
   "execution_count": 22,
   "id": "23dd1552-b9cb-4815-9fc9-bebecf2b26e9",
   "metadata": {},
   "outputs": [
    {
     "name": "stdin",
     "output_type": "stream",
     "text": [
      "enter your string hello how are you\n",
      "what you want to removes h\n"
     ]
    },
    {
     "name": "stdout",
     "output_type": "stream",
     "text": [
      "ello ow are you\n"
     ]
    }
   ],
   "source": [
    "s = input(\"enter your string\")\n",
    "term = input(\"what you want to removes\")\n",
    "result = \"\"\n",
    "for i in s:\n",
    "    if i != term:\n",
    "         result = result + i\n",
    "print(result)\n"
   ]
  },
  {
   "cell_type": "markdown",
   "id": "a1c3492f-68bb-4674-b4ad-0c513193c637",
   "metadata": {},
   "source": [
    "## Q.5 write a program that can check whether a given string is palindrome or not.\n",
    " abba\n",
    " malayalam"
   ]
  },
  {
   "cell_type": "code",
   "execution_count": 2,
   "id": "ff37dfb7-168d-4581-99d2-7afe2b190db9",
   "metadata": {},
   "outputs": [
    {
     "name": "stdin",
     "output_type": "stream",
     "text": [
      "enter the string to check if it a palindrome:  abba\n"
     ]
    },
    {
     "name": "stdout",
     "output_type": "stream",
     "text": [
      "The string is a palindrome.\n"
     ]
    }
   ],
   "source": [
    "str_1 = input(\"enter the string to check if it a palindrome: \")\n",
    "str_1 = str_1.casefold()\n",
    "rev_str = reversed(str_1)\n",
    "if list(str_1) == list(rev_str):\n",
    "    print(\"The string is a palindrome.\")\n",
    "else:\n",
    "    print(\"The string is not a palindrome.\")\n",
    "    \n",
    "            "
   ]
  },
  {
   "cell_type": "markdown",
   "id": "7fcd2c83-7071-4ff3-9f27-b4924792a7ed",
   "metadata": {},
   "source": [
    "## Q.6 Write a program to count the number of words in a string without split()"
   ]
  },
  {
   "cell_type": "code",
   "execution_count": 1,
   "id": "22ab8686-b61c-450c-841a-e8987ffb9481",
   "metadata": {},
   "outputs": [
    {
     "name": "stdin",
     "output_type": "stream",
     "text": [
      "Enter a string hello world\n"
     ]
    },
    {
     "name": "stdout",
     "output_type": "stream",
     "text": [
      "Length of string is:  11\n"
     ]
    }
   ],
   "source": [
    "str1=input(\"Enter a string\")\n",
    "count=0\n",
    "for i in str1:\n",
    " count += 1\n",
    "print(\"Length of string is: \",count)"
   ]
  },
  {
   "cell_type": "markdown",
   "id": "adb855b3-0245-4044-9524-c7b125cdaa10",
   "metadata": {},
   "source": [
    "## Q.7 Write a python program to convert a string to title case without using the title()"
   ]
  },
  {
   "cell_type": "code",
   "execution_count": 3,
   "id": "5ea541ef-d792-410a-a69f-e69d5629c601",
   "metadata": {},
   "outputs": [
    {
     "name": "stdin",
     "output_type": "stream",
     "text": [
      "enter the string: hello world\n"
     ]
    },
    {
     "name": "stdout",
     "output_type": "stream",
     "text": [
      "['hello', 'world']\n",
      "Hello \n",
      "Hello World \n"
     ]
    }
   ],
   "source": [
    "str1=input(\"enter the string:\")\n",
    "a=str1.split()\n",
    "print(a)\n",
    "r=\"\"\n",
    "for i in a:\n",
    "    r = r +i[0].upper() + i[1:].lower() +\" \"\n",
    "    print(r)"
   ]
  },
  {
   "cell_type": "code",
   "execution_count": null,
   "id": "7e54334d-7a1d-4f63-83c3-80301f274952",
   "metadata": {},
   "outputs": [],
   "source": []
  }
 ],
 "metadata": {
  "kernelspec": {
   "display_name": "Python 3 (ipykernel)",
   "language": "python",
   "name": "python3"
  },
  "language_info": {
   "codemirror_mode": {
    "name": "ipython",
    "version": 3
   },
   "file_extension": ".py",
   "mimetype": "text/x-python",
   "name": "python",
   "nbconvert_exporter": "python",
   "pygments_lexer": "ipython3",
   "version": "3.11.7"
  }
 },
 "nbformat": 4,
 "nbformat_minor": 5
}
